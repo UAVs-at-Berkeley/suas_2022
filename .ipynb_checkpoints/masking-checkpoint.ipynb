{
 "cells": [
  {
   "cell_type": "code",
   "execution_count": 1,
   "id": "eca258ec-ac49-4322-b3b2-32894940d5b9",
   "metadata": {},
   "outputs": [],
   "source": [
    "import numpy as np\n",
    "import cv2\n",
    "from sklearn.cluster import KMeans\n",
    "from collections import Counter\n",
    "import matplotlib.pyplot as plt"
   ]
  },
  {
   "cell_type": "code",
   "execution_count": 2,
   "id": "85f7b0d4-39a1-4b49-ad69-72b1661cb492",
   "metadata": {},
   "outputs": [],
   "source": [
    "def get_image(image_path):\n",
    "    image = cv2.imread(image_path)\n",
    "    image = cv2.cvtColor(image, cv2.COLOR_BGR2RGB)\n",
    "    return image\n",
    "\n",
    "# number_of_colors parameter tells cluster algorithm how many colors to search for \n",
    "# ideal img would be cropped to have two primary colors (color of shape and alphanumeric)\n",
    "def get_colors(img, shape=(600,400), n_colors=2):\n",
    "    # resizes image to speed up processing\n",
    "    modified_image = cv2.resize(img, shape, interpolation = cv2.INTER_AREA)\n",
    "    modified_image = modified_image.reshape(modified_image.shape[0]*modified_image.shape[1], 3)\n",
    "    clf = KMeans(n_clusters = n_colors)\n",
    "    labels = clf.fit_predict(modified_image)\n",
    "    counts = Counter(labels)\n",
    "    center_colors = [list(map(int, lst)) for lst in clf.cluster_centers_]\n",
    "    # ordered_colors contains the rgb values in order of most frequent to least\n",
    "    ordered_colors = [center_colors[i] for i in counts.keys()]\n",
    "    return labels, ordered_colors"
   ]
  },
  {
   "cell_type": "code",
   "execution_count": 12,
   "id": "a7cace1e-6e84-4fa0-b510-a415701f2aa0",
   "metadata": {},
   "outputs": [
    {
     "data": {
      "text/plain": [
       "<matplotlib.image.AxesImage at 0x23c78114b80>"
      ]
     },
     "execution_count": 12,
     "metadata": {},
     "output_type": "execute_result"
    },
    {
     "data": {
      "image/png": "[encoded data removed]",
      "text/plain": [
       "<Figure size 432x288 with 1 Axes>"
      ]
     },
     "metadata": {
      "needs_background": "light"
     },
     "output_type": "display_data"
    }
   ],
   "source": [
    "img_path = \"targets/trapezoid_orange_4_green.png\"\n",
    "test_img = get_image(img_path)\n",
    "plt.imshow(test_img)"
   ]
  },
  {
   "cell_type": "code",
   "execution_count": 16,
   "id": "f5c17706-1b53-41e9-8ed4-e8aadb486693",
   "metadata": {},
   "outputs": [],
   "source": [
    "n_colors = 2\n",
    "shape = (500, 500)\n",
    "labels, ordered_colors = get_colors(test_img, shape, n_colors=n_colors)"
   ]
  },
  {
   "cell_type": "code",
   "execution_count": 17,
   "id": "926911fb-8f7c-4d54-bb8b-57dab6cdeb45",
   "metadata": {},
   "outputs": [],
   "source": [
    "def get_masks(num_clusters, shape, labels):\n",
    "    mask_lst = []\n",
    "    for i in range(num_clusters):\n",
    "        cluster_centers = np.zeros([num_clusters, 3])\n",
    "        cluster_centers[i] = [255, 255, 255]\n",
    "        mask = cluster_centers[labels].reshape(shape[0], shape[1], 3)  \n",
    "        mask_lst.append(mask)\n",
    "    return mask_lst"
   ]
  },
  {
   "cell_type": "code",
   "execution_count": 18,
   "id": "dc7bbeac-0a66-4eba-8982-106837c8814f",
   "metadata": {},
   "outputs": [
    {
     "name": "stderr",
     "output_type": "stream",
     "text": [
      "Clipping input data to the valid range for imshow with RGB data ([0..1] for floats or [0..255] for integers).\n",
      "Clipping input data to the valid range for imshow with RGB data ([0..1] for floats or [0..255] for integers).\n"
     ]
    },
    {
     "data": {
      "image/png": "[encoded data removed]",
      "text/plain": [
       "<Figure size 1440x1440 with 2 Axes>"
      ]
     },
     "metadata": {
      "needs_background": "light"
     },
     "output_type": "display_data"
    }
   ],
   "source": [
    "masks = get_masks(n_colors, shape, labels)\n",
    "fig, axes = plt.subplots(n_colors, 1, figsize = (20, 20))\n",
    "for i, ax in enumerate(axes):\n",
    "    axes[i].imshow(masks[i])\n",
    "plt.show()"
   ]
  },
  {
   "cell_type": "code",
   "execution_count": 128,
   "id": "87f894cb-b035-4b67-a444-f2a4613836de",
   "metadata": {},
   "outputs": [],
   "source": [
    "\"\"\"\n",
    "andy = get_image(\"test.png\")\n",
    "scale_percent = 10 # percent of original size\n",
    "width = int(andy.shape[1] * scale_percent / 100)\n",
    "height = int(andy.shape[0] * scale_percent / 100)\n",
    "dim = (width, height)\n",
    "andy = cv2.resize(andy, dsize=dim, interpolation=cv2.INTER_AREA)\n",
    "cv2.imshow(\"Andy\", cv2.cvtColor(andy, cv2.COLOR_BGR2RGB))\n",
    "cv2.waitKey(0)\n",
    "cv2.destroyAllWindows()\n",
    "\"\"\""
   ]
  },
  {
   "cell_type": "code",
   "execution_count": 152,
   "id": "5a7eecaf-7970-4b63-b4c3-de4f93eef568",
   "metadata": {},
   "outputs": [],
   "source": [
    "#plt.imshow(cv2.cvtColor(andy, cv2.COLOR_BGR2GRAY), cmap='gray')"
   ]
  },
  {
   "cell_type": "code",
   "execution_count": 155,
   "id": "deeaebe5-eaf7-4b6e-819a-66f7f28bf855",
   "metadata": {},
   "outputs": [
    {
     "data": {
      "text/plain": [
       "\"\\nandy = andy.reshape(width*height, 3)\\nnum_clusters = 5\\nkmeans = KMeans(n_clusters = num_clusters).fit(andy)\\ncluster_centers = kmeans.cluster_centers_.astype('int')\\ncluster_labels = kmeans.labels_\\nclustered_img = cluster_centers[cluster_labels].reshape(height, width, 3)\\n\""
      ]
     },
     "execution_count": 155,
     "metadata": {},
     "output_type": "execute_result"
    }
   ],
   "source": [
    "\"\"\"\n",
    "andy = andy.reshape(width*height, 3)\n",
    "num_clusters = 5\n",
    "kmeans = KMeans(n_clusters = num_clusters).fit(andy)\n",
    "cluster_centers = kmeans.cluster_centers_.astype('int')\n",
    "cluster_labels = kmeans.labels_\n",
    "clustered_img = cluster_centers[cluster_labels].reshape(height, width, 3)\n",
    "\"\"\""
   ]
  },
  {
   "cell_type": "code",
   "execution_count": 154,
   "id": "e933c2e7-7b6a-415e-a2e1-34bb5ac4fb7b",
   "metadata": {},
   "outputs": [
    {
     "data": {
      "text/plain": [
       "'\\nmasks = display_masks(num_clusters, (height, width), cluster_labels)\\nfig, axes = plt.subplots(4, 1, figsize = (20, 20))\\nfor i, ax in enumerate(axes):\\n    axes[i].imshow(masks[i])\\nplt.show()\\n\\n'"
      ]
     },
     "execution_count": 154,
     "metadata": {},
     "output_type": "execute_result"
    }
   ],
   "source": [
    "\"\"\"\n",
    "masks = display_masks(num_clusters, (height, width), cluster_labels)\n",
    "fig, axes = plt.subplots(4, 1, figsize = (20, 20))\n",
    "for i, ax in enumerate(axes):\n",
    "    axes[i].imshow(masks[i])\n",
    "plt.show()\n",
    "\n",
    "\"\"\""
   ]
  },
  {
   "cell_type": "code",
   "execution_count": null,
   "id": "a22ddda2-8928-4df6-9587-ea3f40e72b5a",
   "metadata": {},
   "outputs": [],
   "source": []
  }
 ],
 "metadata": {
  "kernelspec": {
   "display_name": "Python 3 (ipykernel)",
   "language": "python",
   "name": "python3"
  },
  "language_info": {
   "codemirror_mode": {
    "name": "ipython",
    "version": 3
   },
   "file_extension": ".py",
   "mimetype": "text/x-python",
   "name": "python",
   "nbconvert_exporter": "python",
   "pygments_lexer": "ipython3",
   "version": "3.9.12"
  }
 },
 "nbformat": 4,
 "nbformat_minor": 5
}
